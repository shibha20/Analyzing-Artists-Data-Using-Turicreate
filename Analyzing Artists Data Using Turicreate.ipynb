{
 "cells": [
  {
   "cell_type": "code",
   "execution_count": 3,
   "metadata": {},
   "outputs": [],
   "source": [
    "import turicreate"
   ]
  },
  {
   "cell_type": "code",
   "execution_count": 4,
   "metadata": {},
   "outputs": [],
   "source": [
    "from turicreate import SFrame as sf"
   ]
  },
  {
   "cell_type": "markdown",
   "metadata": {},
   "source": [
    "# Reading a Sframe      "
   ]
  },
  {
   "cell_type": "code",
   "execution_count": 5,
   "metadata": {},
   "outputs": [],
   "source": [
    "SF = sf(\"/Users/shilpabhandari/Downloads/people_wiki.sframe\")"
   ]
  },
  {
   "cell_type": "markdown",
   "metadata": {},
   "source": [
    "# Column Names of the Sframe"
   ]
  },
  {
   "cell_type": "code",
   "execution_count": 6,
   "metadata": {},
   "outputs": [
    {
     "data": {
      "text/plain": [
       "['URI', 'name', 'text']"
      ]
     },
     "execution_count": 6,
     "metadata": {},
     "output_type": "execute_result"
    }
   ],
   "source": [
    "SF.column_names()"
   ]
  },
  {
   "cell_type": "markdown",
   "metadata": {},
   "source": [
    "# Number of Rows in the Sframe"
   ]
  },
  {
   "cell_type": "code",
   "execution_count": 7,
   "metadata": {},
   "outputs": [
    {
     "data": {
      "text/plain": [
       "59071"
      ]
     },
     "execution_count": 7,
     "metadata": {},
     "output_type": "execute_result"
    }
   ],
   "source": [
    "SF.num_rows()"
   ]
  },
  {
   "cell_type": "markdown",
   "metadata": {},
   "source": [
    "# Sort by names of artists"
   ]
  },
  {
   "cell_type": "code",
   "execution_count": 13,
   "metadata": {},
   "outputs": [
    {
     "data": {
      "text/plain": [
       "dtype: str\n",
       "Rows: 59071\n",
       "[' Renate Lorenz', '%C3%80lex Rigola', '%C3%81dria Santos', '%C3%81g%C3%BAsta Eva Erlendsd%C3%B3ttir', '%C3%81ine Brady', '%C3%81ine Hyland', '%C3%81lex Diego', '%C3%81lvaro Gon%C3%A7alves', '%C3%81lvaro Noboa', '%C3%81lvaro Pierri', '%C3%81lvaro Rudolphy', '%C3%81lvaro Saieh', '%C3%81lvaro Uribe', '%C3%81nde Somby', '%C3%81ngel Clemente Rojas', '%C3%81ngel Garc%C3%ADa', '%C3%81ngel Guillermo Heredia Hern%C3%A1ndez', '%C3%81ngel Nieto', '%C3%81ngel P%C3%A9rez Mart%C3%ADnez', '%C3%81ngel Romero', '%C3%81ngel Rozas', '%C3%81ngel Salazar (baseball)', '%C3%81ngel Santos Ju%C3%A1rez', '%C3%81rni %C3%9E%C3%B3r Sigur%C3%B0sson', '%C3%81rni Mathiesen', '%C3%81rni Sveinsson', '%C3%81ron G%C3%A1dorfalvi', '%C3%81sgeir Trausti', '%C3%85ke Jonsson', '%C3%85sa Lif', '%C3%85sa Linderborg', '%C3%85se Klundelien', '%C3%85sleik Engmark', '%C3%85smund Reikvam', '%C3%87a%C4%9Fan Irmak', '%C3%87a%C4%9Fatay Ulusoy', '%C3%87evik Bir', '%C3%87ezar Kurti', '%C3%89amonn %C3%93 Cath%C3%A1in', '%C3%89amonn Fitzmaurice', '%C3%89amonn Kelly', '%C3%89dgar Vivar', '%C3%89douard Br%C3%A9zin', '%C3%89douard Maunick', '%C3%89dson Boaro', '%C3%89laine Michaud', '%C3%89lie Domota', '%C3%89lisabeth Dayn%C3%A8s', '%C3%89lisabeth Fanger', '%C3%89milie Loit', '%C3%89milius Goulet', '%C3%89ric Bernard', '%C3%89ric Caire', '%C3%89ric Deslauriers', '%C3%89ric Falt', '%C3%89ric Gagn%C3%A9', '%C3%89ric Houde', '%C3%89ric Laurent', '%C3%89ric Legnini', '%C3%89ric Lucas', '%C3%89tienne Bacrot', '%C3%89tienne Pinte', '%C3%89va Tardos', '%C3%8D%C3%B1igo Cuesta', '%C3%8Dngrid Betancourt', '%C3%93lavur Jakobsen', '%C3%93mar Ragnarsson', '%C3%93scar Felipe Ventura', '%C3%93scar Malherbe de Le%C3%B3n', '%C3%93scar Robles', '%C3%93scar Salas Moya', '%C3%96gmundur J%C3%B3nasson', '%C3%96rjan Persson', '%C3%96zg%C3%BCr Uyan%C4%B1k', '%C3%96zlem Cekic', '%C3%98ystein Linnebo', '%C3%98ystein Runde', '%C3%98ystein S%C3%B8rensen', '%C3%98yvind Alsaker', '%C3%98yvind Rauset', '%C3%98yvind Str%C3%B8mmen', '%C3%98yvind Torvund', '%C3%9Cberzone', '%C3%9Eorfinnur %C3%93marsson', '%C3%9Eorger%C3%B0ur Katr%C3%ADn Gunnarsd%C3%B3ttir', '%C4%8Cedomir %C4%8Cupi%C4%87', '%C4%90%C3%A0m V%C4%A9nh H%C6%B0ng', '%C4%90%E1%BB%93ng S%C4%A9 Nguy%C3%AAn', '%C4%90%E1%BB%97 M%C6%B0%E1%BB%9Di', '%C4%90o%C3%A0n Huy Ch%C6%B0%C6%A1ng', '%C4%90o%C3%A0n V%C4%83n %C4%90i%E1%BB%87n', '%C4%90or%C4%91e Filipovi%C4%87', '%C4%90ovani Roso', '%C4%90ura%C4%91 Vasi%C4%87', '%C4%90uro Seder', '%C4%A2irts Valdis Kristovskis', '%C4%B0brahim %C3%9Cz%C3%BClmez', '%C4%B0brahim %C5%9Een', '%C4%B0lhan Usmanba%C5%9F', '%C4%B0nan S%C3%BCver', ... ]"
      ]
     },
     "execution_count": 13,
     "metadata": {},
     "output_type": "execute_result"
    }
   ],
   "source": [
    "SF['name'].sort()"
   ]
  },
  {
   "cell_type": "markdown",
   "metadata": {},
   "source": [
    "# Description of Harpdog Brown"
   ]
  },
  {
   "cell_type": "code",
   "execution_count": 17,
   "metadata": {},
   "outputs": [
    {
     "data": {
      "text/plain": [
       "dtype: str\n",
       "Rows: ?\n",
       "['harpdog brown is a singer and harmonica player who has been active in canadas blues scene since 1982 hailing from vancouver he crossed tens of thousands of miles playing club dates and festivals in canada the northwestern united states and germanyover the years he has issued seven cds in 1995 his home is where the harp is won the muddy award for the best nw blues release from the cascade blues association in portland oregon as well that year it was nominated for a canadian juno for the best bluesgospel recording teamed up with graham guest on piano his cd naturally was voted 1 canadian blues album of 2010 by the blind lemon surveybrown tours extensively with his guitarist j arthur edmonds performing their electric mid1950s chicago blues either as a duo or with the full band while he is home he juggles a few combos working many venues big and small he also leads the harpdog brown band which is a gutsy traditional chicago blues band in 2014 they released what it is comprising mainly original songs and a few classic covers influential blues promoter and broadcaster holger petersen called what it is browns best albumhe was just awarded the maple blues award in toronto for best harmonica player in canada 2014 and was honored with a life time membership to the hamilton blues society', ... ]"
      ]
     },
     "execution_count": 17,
     "metadata": {},
     "output_type": "execute_result"
    }
   ],
   "source": [
    "SF[SF['name']=='Harpdog Brown']['text']"
   ]
  },
  {
   "cell_type": "markdown",
   "metadata": {},
   "source": [
    "# Sort by description of artists"
   ]
  },
  {
   "cell_type": "code",
   "execution_count": 21,
   "metadata": {},
   "outputs": [
    {
     "data": {
      "text/html": [
       "<div style=\"max-height:1000px;max-width:1500px;overflow:auto;\"><table frame=\"box\" rules=\"cols\">\n",
       "    <tr>\n",
       "        <th style=\"padding-left: 1em; padding-right: 1em; text-align: center\">URI</th>\n",
       "        <th style=\"padding-left: 1em; padding-right: 1em; text-align: center\">name</th>\n",
       "        <th style=\"padding-left: 1em; padding-right: 1em; text-align: center\">text</th>\n",
       "    </tr>\n",
       "    <tr>\n",
       "        <td style=\"padding-left: 1em; padding-right: 1em; text-align: center; vertical-align: top\">&lt;http://dbpedia.org/resou<br>rce/108_(artist)&gt; ...</td>\n",
       "        <td style=\"padding-left: 1em; padding-right: 1em; text-align: center; vertical-align: top\">108 (artist)</td>\n",
       "        <td style=\"padding-left: 1em; padding-right: 1em; text-align: center; vertical-align: top\">108 born 1978 is an<br>italian artist in the ...</td>\n",
       "    </tr>\n",
       "    <tr>\n",
       "        <td style=\"padding-left: 1em; padding-right: 1em; text-align: center; vertical-align: top\">&lt;http://dbpedia.org/resou<br>rce/1.8.7&gt; ...</td>\n",
       "        <td style=\"padding-left: 1em; padding-right: 1em; text-align: center; vertical-align: top\">1.8.7</td>\n",
       "        <td style=\"padding-left: 1em; padding-right: 1em; text-align: center; vertical-align: top\">187 is a pseudonym for<br>jordana lesesne a ...</td>\n",
       "    </tr>\n",
       "    <tr>\n",
       "        <td style=\"padding-left: 1em; padding-right: 1em; text-align: center; vertical-align: top\">&lt;http://dbpedia.org/resou<br>rce/Diane_Carlson_Evans&gt; ...</td>\n",
       "        <td style=\"padding-left: 1em; padding-right: 1em; text-align: center; vertical-align: top\">Diane Carlson Evans</td>\n",
       "        <td style=\"padding-left: 1em; padding-right: 1em; text-align: center; vertical-align: top\">1lt diane carlson evans<br>anc rvn born 1946 served ...</td>\n",
       "    </tr>\n",
       "    <tr>\n",
       "        <td style=\"padding-left: 1em; padding-right: 1em; text-align: center; vertical-align: top\">&lt;http://dbpedia.org/resou<br>rce/Robert_Godley&gt; ...</td>\n",
       "        <td style=\"padding-left: 1em; padding-right: 1em; text-align: center; vertical-align: top\">Robert Godley</td>\n",
       "        <td style=\"padding-left: 1em; padding-right: 1em; text-align: center; vertical-align: top\">1robert godley b 7 july<br>1971 in whitstable kent ...</td>\n",
       "    </tr>\n",
       "    <tr>\n",
       "        <td style=\"padding-left: 1em; padding-right: 1em; text-align: center; vertical-align: top\">&lt;http://dbpedia.org/resou<br>rce/Lisa_Mullins&gt; ...</td>\n",
       "        <td style=\"padding-left: 1em; padding-right: 1em; text-align: center; vertical-align: top\">Lisa Mullins</td>\n",
       "        <td style=\"padding-left: 1em; padding-right: 1em; text-align: center; vertical-align: top\">2012 gracie award winner<br>lisa mullins is an ...</td>\n",
       "    </tr>\n",
       "    <tr>\n",
       "        <td style=\"padding-left: 1em; padding-right: 1em; text-align: center; vertical-align: top\">&lt;http://dbpedia.org/resou<br>rce/Martijn_Meeuwis&gt; ...</td>\n",
       "        <td style=\"padding-left: 1em; padding-right: 1em; text-align: center; vertical-align: top\">Martijn Meeuwis</td>\n",
       "        <td style=\"padding-left: 1em; padding-right: 1em; text-align: center; vertical-align: top\">250px250pxmartijn meeuwis<br>born july 14 1982 in ...</td>\n",
       "    </tr>\n",
       "    <tr>\n",
       "        <td style=\"padding-left: 1em; padding-right: 1em; text-align: center; vertical-align: top\">&lt;http://dbpedia.org/resou<br>rce/8_Ball_Aitken&gt; ...</td>\n",
       "        <td style=\"padding-left: 1em; padding-right: 1em; text-align: center; vertical-align: top\">8 Ball Aitken</td>\n",
       "        <td style=\"padding-left: 1em; padding-right: 1em; text-align: center; vertical-align: top\">8 ball aitken born 8 june<br>1987 is an australian ...</td>\n",
       "    </tr>\n",
       "    <tr>\n",
       "        <td style=\"padding-left: 1em; padding-right: 1em; text-align: center; vertical-align: top\">&lt;http://dbpedia.org/resou<br>rce/8th_Arjia_Rinpoche&gt; ...</td>\n",
       "        <td style=\"padding-left: 1em; padding-right: 1em; text-align: center; vertical-align: top\">8th Arjia Rinpoche</td>\n",
       "        <td style=\"padding-left: 1em; padding-right: 1em; text-align: center; vertical-align: top\">8th agya hotogtu lobsang<br>tubten jigme gyatso ...</td>\n",
       "    </tr>\n",
       "    <tr>\n",
       "        <td style=\"padding-left: 1em; padding-right: 1em; text-align: center; vertical-align: top\">&lt;http://dbpedia.org/resou<br>rce/Jim_Gould&gt; ...</td>\n",
       "        <td style=\"padding-left: 1em; padding-right: 1em; text-align: center; vertical-align: top\">Jim Gould</td>\n",
       "        <td style=\"padding-left: 1em; padding-right: 1em; text-align: center; vertical-align: top\">a canadian foreign<br>affairs intelligence ...</td>\n",
       "    </tr>\n",
       "    <tr>\n",
       "        <td style=\"padding-left: 1em; padding-right: 1em; text-align: center; vertical-align: top\">&lt;http://dbpedia.org/resou<br>rce/David_L._Holmes&gt; ...</td>\n",
       "        <td style=\"padding-left: 1em; padding-right: 1em; text-align: center; vertical-align: top\">David L. Holmes</td>\n",
       "        <td style=\"padding-left: 1em; padding-right: 1em; text-align: center; vertical-align: top\">a church historian david<br>l holmes is walter g ...</td>\n",
       "    </tr>\n",
       "</table>\n",
       "[59071 rows x 3 columns]<br/>Note: Only the head of the SFrame is printed.<br/>You can use print_rows(num_rows=m, num_columns=n) to print more rows and columns.\n",
       "</div>"
      ],
      "text/plain": [
       "Columns:\n",
       "\tURI\tstr\n",
       "\tname\tstr\n",
       "\ttext\tstr\n",
       "\n",
       "Rows: 59071\n",
       "\n",
       "Data:\n",
       "+-------------------------------+---------------------+\n",
       "|              URI              |         name        |\n",
       "+-------------------------------+---------------------+\n",
       "| <http://dbpedia.org/resour... |     108 (artist)    |\n",
       "| <http://dbpedia.org/resour... |        1.8.7        |\n",
       "| <http://dbpedia.org/resour... | Diane Carlson Evans |\n",
       "| <http://dbpedia.org/resour... |    Robert Godley    |\n",
       "| <http://dbpedia.org/resour... |     Lisa Mullins    |\n",
       "| <http://dbpedia.org/resour... |   Martijn Meeuwis   |\n",
       "| <http://dbpedia.org/resour... |    8 Ball Aitken    |\n",
       "| <http://dbpedia.org/resour... |  8th Arjia Rinpoche |\n",
       "| <http://dbpedia.org/resour... |      Jim Gould      |\n",
       "| <http://dbpedia.org/resour... |   David L. Holmes   |\n",
       "+-------------------------------+---------------------+\n",
       "+-------------------------------+\n",
       "|              text             |\n",
       "+-------------------------------+\n",
       "| 108 born 1978 is an italia... |\n",
       "| 187 is a pseudonym for jor... |\n",
       "| 1lt diane carlson evans an... |\n",
       "| 1robert godley b 7 july 19... |\n",
       "| 2012 gracie award winner l... |\n",
       "| 250px250pxmartijn meeuwis ... |\n",
       "| 8 ball aitken born 8 june ... |\n",
       "| 8th agya hotogtu lobsang t... |\n",
       "| a canadian foreign affairs... |\n",
       "| a church historian david l... |\n",
       "+-------------------------------+\n",
       "[59071 rows x 3 columns]\n",
       "Note: Only the head of the SFrame is printed.\n",
       "You can use print_rows(num_rows=m, num_columns=n) to print more rows and columns."
      ]
     },
     "execution_count": 21,
     "metadata": {},
     "output_type": "execute_result"
    }
   ],
   "source": [
    "SF.sort('text')"
   ]
  },
  {
   "cell_type": "code",
   "execution_count": null,
   "metadata": {},
   "outputs": [],
   "source": []
  }
 ],
 "metadata": {
  "kernelspec": {
   "display_name": "Python 3.7.8 64-bit",
   "language": "python",
   "name": "python3"
  },
  "language_info": {
   "codemirror_mode": {
    "name": "ipython",
    "version": 3
   },
   "file_extension": ".py",
   "mimetype": "text/x-python",
   "name": "python",
   "nbconvert_exporter": "python",
   "pygments_lexer": "ipython3",
   "version": "3.7.8"
  },
  "orig_nbformat": 4,
  "vscode": {
   "interpreter": {
    "hash": "949777d72b0d2535278d3dc13498b2535136f6dfe0678499012e853ee9abcab1"
   }
  }
 },
 "nbformat": 4,
 "nbformat_minor": 2
}
